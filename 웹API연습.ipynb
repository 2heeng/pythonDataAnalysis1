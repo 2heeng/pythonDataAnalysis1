{
  "cells": [
    {
      "cell_type": "markdown",
      "metadata": {
        "id": "view-in-github",
        "colab_type": "text"
      },
      "source": [
        "<a href=\"https://colab.research.google.com/github/2heeng/pythonDataAnalysis1/blob/main/%EC%9B%B9API%EC%97%B0%EC%8A%B5.ipynb\" target=\"_parent\"><img src=\"https://colab.research.google.com/assets/colab-badge.svg\" alt=\"Open In Colab\"/></a>"
      ]
    },
    {
      "cell_type": "code",
      "execution_count": null,
      "id": "b5f24880",
      "metadata": {
        "id": "b5f24880"
      },
      "outputs": [],
      "source": [
        "#API키를 사용하지 않고 데이터 가져오기"
      ]
    },
    {
      "cell_type": "code",
      "execution_count": null,
      "id": "27b60c82",
      "metadata": {
        "id": "27b60c82"
      },
      "outputs": [],
      "source": [
        "#International Space Station 위도, 경도 제공 open-notify.org"
      ]
    },
    {
      "cell_type": "code",
      "execution_count": null,
      "id": "39105e72",
      "metadata": {
        "id": "39105e72"
      },
      "outputs": [],
      "source": [
        "url='http://api.open-notify.org/iss-now.json'"
      ]
    },
    {
      "cell_type": "code",
      "execution_count": null,
      "id": "8fd2ab0e",
      "metadata": {
        "id": "8fd2ab0e"
      },
      "outputs": [],
      "source": [
        "import requests"
      ]
    },
    {
      "cell_type": "code",
      "execution_count": null,
      "id": "086fb6d4",
      "metadata": {
        "id": "086fb6d4",
        "outputId": "e3ac8a55-5108-459c-b3f3-25e8022a8ede"
      },
      "outputs": [
        {
          "data": {
            "text/plain": [
              "<Response [200]>"
            ]
          },
          "execution_count": 5,
          "metadata": {},
          "output_type": "execute_result"
        }
      ],
      "source": [
        "requests.get(url)"
      ]
    },
    {
      "cell_type": "code",
      "execution_count": null,
      "id": "5c183928",
      "metadata": {
        "id": "5c183928"
      },
      "outputs": [],
      "source": [
        "resp_status_code=requests.get(url)"
      ]
    },
    {
      "cell_type": "code",
      "execution_count": null,
      "id": "49b8ab7a",
      "metadata": {
        "id": "49b8ab7a",
        "outputId": "d9f99ed4-9ef3-4378-c3c2-4c7138409f88"
      },
      "outputs": [
        {
          "data": {
            "text/plain": [
              "'{\"message\": \"success\", \"iss_position\": {\"longitude\": \"-3.5566\", \"latitude\": \"50.8220\"}, \"timestamp\": 1715043356}'"
            ]
          },
          "execution_count": 7,
          "metadata": {},
          "output_type": "execute_result"
        }
      ],
      "source": [
        "resp_status_code.text"
      ]
    },
    {
      "cell_type": "code",
      "execution_count": null,
      "id": "35dc6cad",
      "metadata": {
        "id": "35dc6cad",
        "outputId": "9983f466-add6-4fdd-a17c-5c3aa9425b1a"
      },
      "outputs": [
        {
          "data": {
            "text/plain": [
              "requests.models.Response"
            ]
          },
          "execution_count": 10,
          "metadata": {},
          "output_type": "execute_result"
        }
      ],
      "source": [
        "type(resp_status_code)"
      ]
    },
    {
      "cell_type": "code",
      "execution_count": null,
      "id": "44c297e1",
      "metadata": {
        "id": "44c297e1",
        "outputId": "334441c0-6d70-4612-e353-243a723f6ea8"
      },
      "outputs": [
        {
          "data": {
            "text/plain": [
              "str"
            ]
          },
          "execution_count": 11,
          "metadata": {},
          "output_type": "execute_result"
        }
      ],
      "source": [
        "type(resp_status_code.text)"
      ]
    },
    {
      "cell_type": "code",
      "execution_count": null,
      "id": "9ae40e85",
      "metadata": {
        "id": "9ae40e85"
      },
      "outputs": [],
      "source": [
        "#웹에서 가져온 데이터는 대부분(반정형:xml,json) str(문자열)보다는"
      ]
    },
    {
      "cell_type": "code",
      "execution_count": null,
      "id": "aa2c64fb",
      "metadata": {
        "id": "aa2c64fb"
      },
      "outputs": [],
      "source": [
        "import json"
      ]
    },
    {
      "cell_type": "code",
      "execution_count": null,
      "id": "c8a59018",
      "metadata": {
        "id": "c8a59018"
      },
      "outputs": [],
      "source": [
        "py_dic=json.loads(resp_status_code.text)"
      ]
    },
    {
      "cell_type": "code",
      "execution_count": null,
      "id": "e60df015",
      "metadata": {
        "id": "e60df015",
        "outputId": "f7ac91db-98c3-4b06-e5e7-47f6f73ff7aa"
      },
      "outputs": [
        {
          "data": {
            "text/plain": [
              "dict"
            ]
          },
          "execution_count": 16,
          "metadata": {},
          "output_type": "execute_result"
        }
      ],
      "source": [
        "type(py_dic)"
      ]
    },
    {
      "cell_type": "code",
      "execution_count": null,
      "id": "f3b0ef35",
      "metadata": {
        "id": "f3b0ef35",
        "outputId": "c41c16b1-d539-4bcc-c787-38f59d506d16"
      },
      "outputs": [
        {
          "data": {
            "text/plain": [
              "{'longitude': '-3.5566', 'latitude': '50.8220'}"
            ]
          },
          "execution_count": 17,
          "metadata": {},
          "output_type": "execute_result"
        }
      ],
      "source": [
        "py_dic['iss_position']"
      ]
    },
    {
      "cell_type": "code",
      "execution_count": null,
      "id": "bc78c75f",
      "metadata": {
        "id": "bc78c75f"
      },
      "outputs": [],
      "source": [
        "import time"
      ]
    },
    {
      "cell_type": "code",
      "execution_count": null,
      "id": "d9c9b8f0",
      "metadata": {
        "id": "d9c9b8f0"
      },
      "outputs": [],
      "source": [
        "#10초마다 국제정거장의 위도, 경도를 가져오는 코드를 짜시오"
      ]
    },
    {
      "cell_type": "code",
      "execution_count": null,
      "id": "dc6fde44",
      "metadata": {
        "id": "dc6fde44"
      },
      "outputs": [],
      "source": [
        "while True:\n",
        "    resp_status_code=requests.get(url)\n",
        "    py_dic=json.loads(resp_status_code.text)\n",
        "    print(py_dic['iss_position'])\n",
        "    time.sleep(10)\n",
        "    break"
      ]
    },
    {
      "cell_type": "code",
      "execution_count": null,
      "id": "9387e840",
      "metadata": {
        "id": "9387e840"
      },
      "outputs": [],
      "source": []
    }
  ],
  "metadata": {
    "kernelspec": {
      "display_name": "Python 3 (ipykernel)",
      "language": "python",
      "name": "python3"
    },
    "language_info": {
      "codemirror_mode": {
        "name": "ipython",
        "version": 3
      },
      "file_extension": ".py",
      "mimetype": "text/x-python",
      "name": "python",
      "nbconvert_exporter": "python",
      "pygments_lexer": "ipython3",
      "version": "3.11.5"
    },
    "colab": {
      "provenance": [],
      "include_colab_link": true
    }
  },
  "nbformat": 4,
  "nbformat_minor": 5
}